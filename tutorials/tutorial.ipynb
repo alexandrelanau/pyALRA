{
 "cells": [
  {
   "cell_type": "markdown",
   "metadata": {},
   "source": [
    "# Set env"
   ]
  },
  {
   "cell_type": "code",
   "execution_count": 2,
   "metadata": {},
   "outputs": [],
   "source": [
    "import anndata as ad\n",
    "import scipy.sparse as sp\n",
    "from pyALRA import choose_k, alra"
   ]
  },
  {
   "cell_type": "markdown",
   "metadata": {},
   "source": [
    "# Load data"
   ]
  },
  {
   "cell_type": "code",
   "execution_count": null,
   "metadata": {},
   "outputs": [],
   "source": [
    "adata=ad.read_h5ad('tutorial.h5ad')"
   ]
  },
  {
   "cell_type": "markdown",
   "metadata": {},
   "source": [
    "# Infer dropout counts"
   ]
  },
  {
   "cell_type": "markdown",
   "metadata": {},
   "source": [
    "\\(k\\) is the rank used to run the `randomized_svd` approximation.  \n",
    "Here, it is determined based on a quantile definition.  \n",
    "\n",
    "You can increase the variable \\(q\\) if you want the \\(k\\) estimation to be more consistent across runs."
   ]
  },
  {
   "cell_type": "code",
   "execution_count": 4,
   "metadata": {},
   "outputs": [
    {
     "name": "stdout",
     "output_type": "stream",
     "text": [
      "16\n"
     ]
    }
   ],
   "source": [
    "k = choose_k(adata.X)\n",
    "print(k['k'])"
   ]
  },
  {
   "cell_type": "markdown",
   "metadata": {},
   "source": [
    "Then, based on this rank \\(k\\), you can run your ALRA function to return the corrected matrix using the specified rank \\(k\\).  \n",
    "If you do not specify a rank, the ALRA function will automatically run `choose_k` for you.  \n",
    "\n",
    "For better consistency across runs, you should also increase \\(q\\) to improve the randomized SVD.  \n",
    "Note that for large matrices, this may increase computation time."
   ]
  },
  {
   "cell_type": "code",
   "execution_count": 5,
   "metadata": {},
   "outputs": [
    {
     "name": "stdout",
     "output_type": "stream",
     "text": [
      "Read matrix with 8213 cells and 12776 genes\n",
      "Find the 0.001 quantile of each gene\n",
      "Sweep\n"
     ]
    },
    {
     "name": "stderr",
     "output_type": "stream",
     "text": [
      "/home/alexandre_lanau/miniconda3/envs/sc_gex_tcr_env/lib/python3.10/site-packages/numpy/core/_methods.py:206: RuntimeWarning: Degrees of freedom <= 0 for slice\n",
      "  ret = _var(a, axis=axis, dtype=dtype, out=out, ddof=ddof,\n",
      "/home/alexandre_lanau/miniconda3/envs/sc_gex_tcr_env/lib/python3.10/site-packages/numpy/core/_methods.py:163: RuntimeWarning: invalid value encountered in divide\n",
      "  arrmean = um.true_divide(arrmean, div, out=arrmean,\n",
      "/home/alexandre_lanau/miniconda3/envs/sc_gex_tcr_env/lib/python3.10/site-packages/numpy/core/_methods.py:198: RuntimeWarning: invalid value encountered in scalar divide\n",
      "  ret = ret.dtype.type(ret / rcount)\n",
      "/home/alexandre_lanau/miniconda3/envs/sc_gex_tcr_env/lib/python3.10/site-packages/pyALRA/core.py:117: RuntimeWarning: invalid value encountered in divide\n",
      "  mu_1 = np.sum(A_norm_rank_k_cor, axis=0) / np.sum(A_norm_rank_k_cor != 0, axis=0)\n",
      "/home/alexandre_lanau/miniconda3/envs/sc_gex_tcr_env/lib/python3.10/site-packages/pyALRA/core.py:118: RuntimeWarning: invalid value encountered in divide\n",
      "  mu_2 = np.sum(A_norm, axis=0) / np.sum(A_norm != 0, axis=0)\n"
     ]
    },
    {
     "name": "stdout",
     "output_type": "stream",
     "text": [
      "Scaling all except for 328 columns\n",
      "0.00% of the values became negative in the scaling process and were set to zero\n",
      "The matrix went from 5.12% nonzero to 65.03% nonzero\n"
     ]
    }
   ],
   "source": [
    "adata.layers['alra'] = alra(adata.X, k['k'])['A_norm_rank_k_cor_sc']"
   ]
  },
  {
   "cell_type": "markdown",
   "metadata": {},
   "source": [
    "Finally, your object is ready to be used.  \n",
    "You can either place the ALRA-corrected matrix directly in `adata.X` for computation,  \n",
    "or specify the layer you want to use (this is supported in most Scanpy functions).\n"
   ]
  },
  {
   "cell_type": "code",
   "execution_count": 6,
   "metadata": {},
   "outputs": [
    {
     "data": {
      "text/plain": [
       "AnnData object with n_obs × n_vars = 8213 × 12776\n",
       "    layers: 'alra'"
      ]
     },
     "execution_count": 6,
     "metadata": {},
     "output_type": "execute_result"
    }
   ],
   "source": [
    "adata"
   ]
  }
 ],
 "metadata": {
  "kernelspec": {
   "display_name": "sc_gex_tcr_env",
   "language": "python",
   "name": "python3"
  },
  "language_info": {
   "codemirror_mode": {
    "name": "ipython",
    "version": 3
   },
   "file_extension": ".py",
   "mimetype": "text/x-python",
   "name": "python",
   "nbconvert_exporter": "python",
   "pygments_lexer": "ipython3",
   "version": "3.10.16"
  },
  "orig_nbformat": 4
 },
 "nbformat": 4,
 "nbformat_minor": 2
}
